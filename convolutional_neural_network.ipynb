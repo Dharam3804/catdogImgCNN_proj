{
 "cells": [
  {
   "cell_type": "code",
   "execution_count": 2,
   "metadata": {
    "id": "sCV30xyVhFbE"
   },
   "outputs": [],
   "source": [
    "import tensorflow as tf\n",
    "from keras.preprocessing.image import ImageDataGenerator"
   ]
  },
  {
   "cell_type": "code",
   "execution_count": 3,
   "metadata": {
    "id": "FIleuCAjoFD8"
   },
   "outputs": [
    {
     "data": {
      "text/plain": [
       "'2.3.1'"
      ]
     },
     "execution_count": 3,
     "metadata": {},
     "output_type": "execute_result"
    }
   ],
   "source": [
    "tf.__version__"
   ]
  },
  {
   "cell_type": "code",
   "execution_count": 4,
   "metadata": {
    "id": "0koUcJMJpEBD"
   },
   "outputs": [
    {
     "name": "stdout",
     "output_type": "stream",
     "text": [
      "Found 8000 images belonging to 2 classes.\n"
     ]
    }
   ],
   "source": [
    "train_datagen = ImageDataGenerator(rescale = 1./255,\n",
    "                                   shear_range = 0.2,\n",
    "                                   zoom_range = 0.2,\n",
    "                                   horizontal_flip = True)\n",
    "training_set = train_datagen.flow_from_directory('dataset/training_set',\n",
    "                                                 target_size = (64, 64),\n",
    "                                                 batch_size = 32,\n",
    "                                                 class_mode = 'binary')"
   ]
  },
  {
   "cell_type": "code",
   "execution_count": 5,
   "metadata": {
    "id": "SH4WzfOhpKc3"
   },
   "outputs": [
    {
     "name": "stdout",
     "output_type": "stream",
     "text": [
      "Found 2000 images belonging to 2 classes.\n"
     ]
    }
   ],
   "source": [
    "test_datagen = ImageDataGenerator(rescale = 1./255)\n",
    "test_set = test_datagen.flow_from_directory('dataset/test_set',\n",
    "                                            target_size = (64, 64),\n",
    "                                            batch_size = 32,\n",
    "                                            class_mode = 'binary')"
   ]
  },
  {
   "cell_type": "code",
   "execution_count": 6,
   "metadata": {
    "id": "SAUt4UMPlhLS"
   },
   "outputs": [],
   "source": [
    "cnn = tf.keras.models.Sequential()"
   ]
  },
  {
   "cell_type": "code",
   "execution_count": 7,
   "metadata": {
    "id": "XPzPrMckl-hV"
   },
   "outputs": [],
   "source": [
    "cnn.add(tf.keras.layers.Conv2D(filters=32, kernel_size=3, activation='relu', input_shape=[64, 64, 3]))"
   ]
  },
  {
   "cell_type": "code",
   "execution_count": 8,
   "metadata": {
    "id": "ncpqPl69mOac"
   },
   "outputs": [],
   "source": [
    "cnn.add(tf.keras.layers.MaxPool2D(pool_size=2, strides=2))"
   ]
  },
  {
   "cell_type": "code",
   "execution_count": 9,
   "metadata": {
    "id": "i_-FZjn_m8gk"
   },
   "outputs": [],
   "source": [
    "cnn.add(tf.keras.layers.Conv2D(filters=32, kernel_size=3, activation='relu'))\n",
    "cnn.add(tf.keras.layers.MaxPool2D(pool_size=2, strides=2))"
   ]
  },
  {
   "cell_type": "code",
   "execution_count": 10,
   "metadata": {
    "id": "6AZeOGCvnNZn"
   },
   "outputs": [],
   "source": [
    "cnn.add(tf.keras.layers.Flatten())"
   ]
  },
  {
   "cell_type": "code",
   "execution_count": 11,
   "metadata": {
    "id": "8GtmUlLd26Nq"
   },
   "outputs": [],
   "source": [
    "cnn.add(tf.keras.layers.Dense(units=128, activation='relu'))"
   ]
  },
  {
   "cell_type": "code",
   "execution_count": 12,
   "metadata": {
    "id": "1p_Zj1Mc3Ko_"
   },
   "outputs": [],
   "source": [
    "cnn.add(tf.keras.layers.Dense(units=1, activation='sigmoid'))"
   ]
  },
  {
   "cell_type": "code",
   "execution_count": 13,
   "metadata": {
    "id": "NALksrNQpUlJ"
   },
   "outputs": [],
   "source": [
    "cnn.compile(optimizer = 'adam', loss = 'binary_crossentropy', metrics = ['accuracy'])"
   ]
  },
  {
   "cell_type": "markdown",
   "metadata": {
    "id": "ehS-v3MIpX2h"
   },
   "source": [
    "### Training the CNN on the Training set and evaluating it on the Test set"
   ]
  },
  {
   "cell_type": "code",
   "execution_count": 14,
   "metadata": {
    "id": "XUj1W4PJptta"
   },
   "outputs": [
    {
     "name": "stdout",
     "output_type": "stream",
     "text": [
      "Epoch 1/25\n",
      "250/250 [==============================] - 306s 1s/step - loss: 0.6657 - accuracy: 0.5832 - val_loss: 0.6158 - val_accuracy: 0.6590\n",
      "Epoch 2/25\n",
      "250/250 [==============================] - 96s 386ms/step - loss: 0.5935 - accuracy: 0.6825 - val_loss: 0.5387 - val_accuracy: 0.7325\n",
      "Epoch 3/25\n",
      "250/250 [==============================] - 73s 291ms/step - loss: 0.5446 - accuracy: 0.7215 - val_loss: 0.5198 - val_accuracy: 0.7505\n",
      "Epoch 4/25\n",
      "250/250 [==============================] - 61s 245ms/step - loss: 0.5121 - accuracy: 0.7415 - val_loss: 0.4822 - val_accuracy: 0.7755\n",
      "Epoch 5/25\n",
      "250/250 [==============================] - 56s 225ms/step - loss: 0.4993 - accuracy: 0.7559 - val_loss: 0.4919 - val_accuracy: 0.7635\n",
      "Epoch 6/25\n",
      "250/250 [==============================] - 46s 185ms/step - loss: 0.4735 - accuracy: 0.7742 - val_loss: 0.4977 - val_accuracy: 0.7690\n",
      "Epoch 7/25\n",
      "250/250 [==============================] - 46s 183ms/step - loss: 0.4671 - accuracy: 0.7721 - val_loss: 0.5113 - val_accuracy: 0.7620\n",
      "Epoch 8/25\n",
      "250/250 [==============================] - 44s 175ms/step - loss: 0.4448 - accuracy: 0.7871 - val_loss: 0.5037 - val_accuracy: 0.7620\n",
      "Epoch 9/25\n",
      "250/250 [==============================] - 44s 175ms/step - loss: 0.4370 - accuracy: 0.7960 - val_loss: 0.4578 - val_accuracy: 0.7840\n",
      "Epoch 10/25\n",
      "250/250 [==============================] - 44s 175ms/step - loss: 0.4305 - accuracy: 0.7940 - val_loss: 0.6310 - val_accuracy: 0.7110\n",
      "Epoch 11/25\n",
      "250/250 [==============================] - 44s 176ms/step - loss: 0.4205 - accuracy: 0.8060 - val_loss: 0.4665 - val_accuracy: 0.7880\n",
      "Epoch 12/25\n",
      "250/250 [==============================] - 44s 175ms/step - loss: 0.4014 - accuracy: 0.8174 - val_loss: 0.4586 - val_accuracy: 0.7890\n",
      "Epoch 13/25\n",
      "250/250 [==============================] - 76s 305ms/step - loss: 0.3971 - accuracy: 0.8149 - val_loss: 0.4530 - val_accuracy: 0.8025\n",
      "Epoch 14/25\n",
      "250/250 [==============================] - 88s 351ms/step - loss: 0.3769 - accuracy: 0.8226 - val_loss: 0.4517 - val_accuracy: 0.8030\n",
      "Epoch 15/25\n",
      "250/250 [==============================] - 88s 352ms/step - loss: 0.3677 - accuracy: 0.8339 - val_loss: 0.4708 - val_accuracy: 0.7885\n",
      "Epoch 16/25\n",
      "250/250 [==============================] - 87s 350ms/step - loss: 0.3502 - accuracy: 0.8443 - val_loss: 0.4894 - val_accuracy: 0.7865\n",
      "Epoch 17/25\n",
      "250/250 [==============================] - 65s 260ms/step - loss: 0.3406 - accuracy: 0.8503 - val_loss: 0.4922 - val_accuracy: 0.7925\n",
      "Epoch 18/25\n",
      "250/250 [==============================] - 43s 170ms/step - loss: 0.3369 - accuracy: 0.8478 - val_loss: 0.4871 - val_accuracy: 0.8010\n",
      "Epoch 19/25\n",
      "250/250 [==============================] - 45s 179ms/step - loss: 0.3238 - accuracy: 0.8589 - val_loss: 0.4600 - val_accuracy: 0.8065\n",
      "Epoch 20/25\n",
      "250/250 [==============================] - 43s 174ms/step - loss: 0.3092 - accuracy: 0.8599 - val_loss: 0.4593 - val_accuracy: 0.8065\n",
      "Epoch 21/25\n",
      "250/250 [==============================] - 44s 175ms/step - loss: 0.3079 - accuracy: 0.8676 - val_loss: 0.5043 - val_accuracy: 0.7930\n",
      "Epoch 22/25\n",
      "250/250 [==============================] - 44s 176ms/step - loss: 0.2969 - accuracy: 0.8691 - val_loss: 0.4742 - val_accuracy: 0.8040\n",
      "Epoch 23/25\n",
      "250/250 [==============================] - 44s 175ms/step - loss: 0.2741 - accuracy: 0.8836 - val_loss: 0.5110 - val_accuracy: 0.8020\n",
      "Epoch 24/25\n",
      "250/250 [==============================] - 44s 176ms/step - loss: 0.2749 - accuracy: 0.8774 - val_loss: 0.4742 - val_accuracy: 0.8090\n",
      "Epoch 25/25\n",
      "250/250 [==============================] - 44s 177ms/step - loss: 0.2607 - accuracy: 0.8866 - val_loss: 0.4963 - val_accuracy: 0.7985\n"
     ]
    },
    {
     "data": {
      "text/plain": [
       "<tensorflow.python.keras.callbacks.History at 0x1fef31fd5c0>"
      ]
     },
     "execution_count": 14,
     "metadata": {},
     "output_type": "execute_result"
    }
   ],
   "source": [
    "cnn.fit(x = training_set, validation_data = test_set, epochs = 25)"
   ]
  },
  {
   "cell_type": "markdown",
   "metadata": {
    "id": "U3PZasO0006Z"
   },
   "source": [
    "## Part 4 - Making a single prediction"
   ]
  },
  {
   "cell_type": "code",
   "execution_count": 15,
   "metadata": {
    "id": "gsSiWEJY1BPB"
   },
   "outputs": [],
   "source": [
    "import numpy as np\n",
    "from keras.preprocessing import image\n",
    "test_image = image.load_img('dataset/single_prediction/cat_or_dog_1.jpg', target_size = (64, 64))\n",
    "test_image = image.img_to_array(test_image)\n",
    "test_image = np.expand_dims(test_image, axis = 0)\n",
    "result = cnn.predict(test_image)\n",
    "training_set.class_indices\n",
    "if result[0][0] == 1:\n",
    "  prediction = 'dog'\n",
    "else:\n",
    "  prediction = 'cat'"
   ]
  },
  {
   "cell_type": "code",
   "execution_count": 16,
   "metadata": {
    "id": "ED9KB3I54c1i"
   },
   "outputs": [
    {
     "name": "stdout",
     "output_type": "stream",
     "text": [
      "dog\n"
     ]
    }
   ],
   "source": [
    "print(prediction)"
   ]
  }
 ],
 "metadata": {
  "colab": {
   "collapsed_sections": [],
   "name": "convolutional_neural_network.ipynb",
   "provenance": [],
   "toc_visible": true
  },
  "kernelspec": {
   "display_name": "Python 3",
   "language": "python",
   "name": "python3"
  },
  "language_info": {
   "codemirror_mode": {
    "name": "ipython",
    "version": 3
   },
   "file_extension": ".py",
   "mimetype": "text/x-python",
   "name": "python",
   "nbconvert_exporter": "python",
   "pygments_lexer": "ipython3",
   "version": "3.7.3"
  }
 },
 "nbformat": 4,
 "nbformat_minor": 1
}
